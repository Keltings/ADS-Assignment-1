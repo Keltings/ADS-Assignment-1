{
  "nbformat": 4,
  "nbformat_minor": 0,
  "metadata": {
    "colab": {
      "name": "Accident analysis",
      "provenance": [],
      "collapsed_sections": [],
      "mount_file_id": "1GPsDIx_OletQ6LcF7msz8QQiuquxKWV0",
      "authorship_tag": "ABX9TyPUfYxcW/rS2D490WVjxS03",
      "include_colab_link": true
    },
    "kernelspec": {
      "display_name": "Python 3",
      "name": "python3"
    },
    "language_info": {
      "name": "python"
    }
  },
  "cells": [
    {
      "cell_type": "markdown",
      "metadata": {
        "id": "view-in-github",
        "colab_type": "text"
      },
      "source": [
        "<a href=\"https://colab.research.google.com/github/Keltings/ADS-Assignment-1/blob/main/Accident_analysis.ipynb\" target=\"_parent\"><img src=\"https://colab.research.google.com/assets/colab-badge.svg\" alt=\"Open In Colab\"/></a>"
      ]
    },
    {
      "cell_type": "markdown",
      "metadata": {
        "id": "8MN2kMlftEmV"
      },
      "source": [
        "**1. DATA OVERVIEW\n",
        "\n",
        "```\n",
        "`# This is formatted as code`\n",
        "```\n",
        "\n",
        "**"
      ]
    },
    {
      "cell_type": "code",
      "metadata": {
        "id": "qxptux_Nq0OO"
      },
      "source": [
        "#import packages for data processing\n",
        "import pandas as pd\n",
        "import numpy as np"
      ],
      "execution_count": 1,
      "outputs": []
    },
    {
      "cell_type": "code",
      "metadata": {
        "id": "opCZ8DV43fHR"
      },
      "source": [
        "#In the first place we are going to import the dataset using pandas.\n",
        "df = pd.read_csv('/content/drive/MyDrive/Colab Notebooks/accidents 1.csv')"
      ],
      "execution_count": 2,
      "outputs": []
    },
    {
      "cell_type": "code",
      "metadata": {
        "colab": {
          "base_uri": "https://localhost:8080/"
        },
        "id": "EqkHwZ2bdiYO",
        "outputId": "78d9364d-13fe-4b9c-ddbd-9f054550a279"
      },
      "source": [
        "df.shape #check the number of rows and columns the dataset has"
      ],
      "execution_count": 3,
      "outputs": [
        {
          "output_type": "execute_result",
          "data": {
            "text/plain": [
              "(867550, 33)"
            ]
          },
          "metadata": {},
          "execution_count": 3
        }
      ]
    },
    {
      "cell_type": "code",
      "metadata": {
        "colab": {
          "base_uri": "https://localhost:8080/"
        },
        "id": "5KaFOdr9Vopy",
        "outputId": "9f51d176-a2b4-4e2a-a91d-177a318b8b37"
      },
      "source": [
        "df.info() #show entry, datatype memory usage"
      ],
      "execution_count": 14,
      "outputs": [
        {
          "output_type": "stream",
          "name": "stdout",
          "text": [
            "<class 'pandas.core.frame.DataFrame'>\n",
            "RangeIndex: 867550 entries, 0 to 867549\n",
            "Data columns (total 33 columns):\n",
            " #   Column                                       Non-Null Count   Dtype  \n",
            "---  ------                                       --------------   -----  \n",
            " 0   Accident_Index                               867550 non-null  object \n",
            " 1   Location_Easting_OSGR                        867464 non-null  float64\n",
            " 2   Location_Northing_OSGR                       867464 non-null  float64\n",
            " 3   Longitude                                    867464 non-null  float64\n",
            " 4   Latitude                                     867464 non-null  float64\n",
            " 5   Police_Force                                 867550 non-null  int64  \n",
            " 6   Accident_Severity                            867550 non-null  int64  \n",
            " 7   Number_of_Vehicles                           867550 non-null  int64  \n",
            " 8   Number_of_Casualties                         867550 non-null  int64  \n",
            " 9   Date                                         867550 non-null  object \n",
            " 10  Day_of_Week                                  867550 non-null  int64  \n",
            " 11  Time                                         867466 non-null  object \n",
            " 12  Local_Authority_(District)                   867550 non-null  int64  \n",
            " 13  Local_Authority_(Highway)                    867550 non-null  object \n",
            " 14  1st_Road_Class                               867550 non-null  int64  \n",
            " 15  1st_Road_Number                              867550 non-null  int64  \n",
            " 16  Road_Type                                    867550 non-null  object \n",
            " 17  Speed_limit                                  867550 non-null  int64  \n",
            " 18  Junction_Detail                              0 non-null       float64\n",
            " 19  Junction_Control                             516693 non-null  object \n",
            " 20  2nd_Road_Class                               867550 non-null  int64  \n",
            " 21  2nd_Road_Number                              867550 non-null  int64  \n",
            " 22  Pedestrian_Crossing-Human_Control            867533 non-null  object \n",
            " 23  Pedestrian_Crossing-Physical_Facilities      867518 non-null  object \n",
            " 24  Light_Conditions                             867550 non-null  object \n",
            " 25  Weather_Conditions                           867443 non-null  object \n",
            " 26  Road_Surface_Conditions                      866546 non-null  object \n",
            " 27  Special_Conditions_at_Site                   867537 non-null  object \n",
            " 28  Carriageway_Hazards                          867524 non-null  object \n",
            " 29  Urban_or_Rural_Area                          867550 non-null  int64  \n",
            " 30  Did_Police_Officer_Attend_Scene_of_Accident  865420 non-null  object \n",
            " 31  LSOA_of_Accident_Location                    808937 non-null  object \n",
            " 32  Year                                         867550 non-null  int64  \n",
            "dtypes: float64(5), int64(13), object(15)\n",
            "memory usage: 218.4+ MB\n"
          ]
        }
      ]
    },
    {
      "cell_type": "markdown",
      "metadata": {
        "id": "DsURF_33WI69"
      },
      "source": [
        "The dataset has 867550 entries and 32 features + 1 target variable. Automatic Type Recognition: 13 of them are int type, 5 of them are float64, 15 of them are object. Memory usage: 218.4+ MB."
      ]
    },
    {
      "cell_type": "markdown",
      "metadata": {
        "id": "nSECzDSJXsvY"
      },
      "source": [
        "\n",
        "\n",
        "> **STATISTICS VIEW**\n",
        "\n"
      ]
    },
    {
      "cell_type": "code",
      "metadata": {
        "colab": {
          "base_uri": "https://localhost:8080/",
          "height": 317
        },
        "id": "lpCNeTo3Xlod",
        "outputId": "b702ae5c-50f0-49c6-f26c-1dd53e45cfc5"
      },
      "source": [
        "#Basic statistic on Ordinal, Interval and Ratio data.\n",
        "OIR_columns = ['Location_Easting_OSGR', 'Location_Northing_OSGR', 'Longitude', 'Latitude', 'Police_Force', 'Accident_Severity', 'Number_of_Vehicles', 'Number_of_Casualties', 'Day_of_Week', 'Local_Authority_(District)', '1st_Road_Class', '1st_Road_Number', 'Speed_limit', '2nd_Road_Class', '2nd_Road_Number', 'Urban_or_Rural_Area', 'Year']\n",
        "df[OIR_columns].describe() #Exclude Date; Time can be transformed to second/minute/hour/day/month/year separately, but it is no need to do it here.\n"
      ],
      "execution_count": 17,
      "outputs": [
        {
          "output_type": "execute_result",
          "data": {
            "text/html": [
              "<div>\n",
              "<style scoped>\n",
              "    .dataframe tbody tr th:only-of-type {\n",
              "        vertical-align: middle;\n",
              "    }\n",
              "\n",
              "    .dataframe tbody tr th {\n",
              "        vertical-align: top;\n",
              "    }\n",
              "\n",
              "    .dataframe thead th {\n",
              "        text-align: right;\n",
              "    }\n",
              "</style>\n",
              "<table border=\"1\" class=\"dataframe\">\n",
              "  <thead>\n",
              "    <tr style=\"text-align: right;\">\n",
              "      <th></th>\n",
              "      <th>Location_Easting_OSGR</th>\n",
              "      <th>Location_Northing_OSGR</th>\n",
              "      <th>Longitude</th>\n",
              "      <th>Latitude</th>\n",
              "      <th>Police_Force</th>\n",
              "      <th>Accident_Severity</th>\n",
              "      <th>Number_of_Vehicles</th>\n",
              "      <th>Number_of_Casualties</th>\n",
              "      <th>Day_of_Week</th>\n",
              "      <th>Local_Authority_(District)</th>\n",
              "      <th>1st_Road_Class</th>\n",
              "      <th>1st_Road_Number</th>\n",
              "      <th>Speed_limit</th>\n",
              "      <th>2nd_Road_Class</th>\n",
              "      <th>2nd_Road_Number</th>\n",
              "      <th>Urban_or_Rural_Area</th>\n",
              "      <th>Year</th>\n",
              "    </tr>\n",
              "  </thead>\n",
              "  <tbody>\n",
              "    <tr>\n",
              "      <th>count</th>\n",
              "      <td>867464.000000</td>\n",
              "      <td>8.674640e+05</td>\n",
              "      <td>867464.000000</td>\n",
              "      <td>867464.000000</td>\n",
              "      <td>867550.000000</td>\n",
              "      <td>867550.000000</td>\n",
              "      <td>867550.000000</td>\n",
              "      <td>867550.000000</td>\n",
              "      <td>867550.000000</td>\n",
              "      <td>867550.000000</td>\n",
              "      <td>867550.000000</td>\n",
              "      <td>867550.000000</td>\n",
              "      <td>867550.000000</td>\n",
              "      <td>867550.000000</td>\n",
              "      <td>867550.000000</td>\n",
              "      <td>867550.000000</td>\n",
              "      <td>867550.000000</td>\n",
              "    </tr>\n",
              "    <tr>\n",
              "      <th>mean</th>\n",
              "      <td>439345.364558</td>\n",
              "      <td>2.993582e+05</td>\n",
              "      <td>-1.440835</td>\n",
              "      <td>52.582165</td>\n",
              "      <td>30.538545</td>\n",
              "      <td>2.841239</td>\n",
              "      <td>1.831130</td>\n",
              "      <td>1.355902</td>\n",
              "      <td>4.126450</td>\n",
              "      <td>350.888779</td>\n",
              "      <td>4.091393</td>\n",
              "      <td>1002.772014</td>\n",
              "      <td>39.169506</td>\n",
              "      <td>2.642198</td>\n",
              "      <td>381.527893</td>\n",
              "      <td>1.355084</td>\n",
              "      <td>2007.933220</td>\n",
              "    </tr>\n",
              "    <tr>\n",
              "      <th>std</th>\n",
              "      <td>95453.947190</td>\n",
              "      <td>1.613353e+05</td>\n",
              "      <td>1.403280</td>\n",
              "      <td>1.452735</td>\n",
              "      <td>25.637168</td>\n",
              "      <td>0.400021</td>\n",
              "      <td>0.715248</td>\n",
              "      <td>0.822754</td>\n",
              "      <td>1.926804</td>\n",
              "      <td>260.598261</td>\n",
              "      <td>1.431850</td>\n",
              "      <td>1822.998663</td>\n",
              "      <td>14.190679</td>\n",
              "      <td>3.205662</td>\n",
              "      <td>1305.163869</td>\n",
              "      <td>0.478821</td>\n",
              "      <td>2.326594</td>\n",
              "    </tr>\n",
              "    <tr>\n",
              "      <th>min</th>\n",
              "      <td>64950.000000</td>\n",
              "      <td>1.052000e+04</td>\n",
              "      <td>-7.516225</td>\n",
              "      <td>49.914488</td>\n",
              "      <td>1.000000</td>\n",
              "      <td>1.000000</td>\n",
              "      <td>1.000000</td>\n",
              "      <td>1.000000</td>\n",
              "      <td>1.000000</td>\n",
              "      <td>1.000000</td>\n",
              "      <td>1.000000</td>\n",
              "      <td>-1.000000</td>\n",
              "      <td>10.000000</td>\n",
              "      <td>-1.000000</td>\n",
              "      <td>-1.000000</td>\n",
              "      <td>1.000000</td>\n",
              "      <td>2005.000000</td>\n",
              "    </tr>\n",
              "    <tr>\n",
              "      <th>25%</th>\n",
              "      <td>375220.000000</td>\n",
              "      <td>1.785300e+05</td>\n",
              "      <td>-2.371243</td>\n",
              "      <td>51.492749</td>\n",
              "      <td>7.000000</td>\n",
              "      <td>3.000000</td>\n",
              "      <td>1.000000</td>\n",
              "      <td>1.000000</td>\n",
              "      <td>2.000000</td>\n",
              "      <td>112.000000</td>\n",
              "      <td>3.000000</td>\n",
              "      <td>0.000000</td>\n",
              "      <td>30.000000</td>\n",
              "      <td>-1.000000</td>\n",
              "      <td>0.000000</td>\n",
              "      <td>1.000000</td>\n",
              "      <td>2006.000000</td>\n",
              "    </tr>\n",
              "    <tr>\n",
              "      <th>50%</th>\n",
              "      <td>439790.000000</td>\n",
              "      <td>2.663600e+05</td>\n",
              "      <td>-1.405855</td>\n",
              "      <td>52.288525</td>\n",
              "      <td>30.000000</td>\n",
              "      <td>3.000000</td>\n",
              "      <td>2.000000</td>\n",
              "      <td>1.000000</td>\n",
              "      <td>4.000000</td>\n",
              "      <td>323.000000</td>\n",
              "      <td>4.000000</td>\n",
              "      <td>124.000000</td>\n",
              "      <td>30.000000</td>\n",
              "      <td>3.000000</td>\n",
              "      <td>0.000000</td>\n",
              "      <td>1.000000</td>\n",
              "      <td>2009.000000</td>\n",
              "    </tr>\n",
              "    <tr>\n",
              "      <th>75%</th>\n",
              "      <td>523520.000000</td>\n",
              "      <td>3.969200e+05</td>\n",
              "      <td>-0.214757</td>\n",
              "      <td>53.467396</td>\n",
              "      <td>46.000000</td>\n",
              "      <td>3.000000</td>\n",
              "      <td>2.000000</td>\n",
              "      <td>1.000000</td>\n",
              "      <td>6.000000</td>\n",
              "      <td>531.000000</td>\n",
              "      <td>6.000000</td>\n",
              "      <td>709.000000</td>\n",
              "      <td>50.000000</td>\n",
              "      <td>6.000000</td>\n",
              "      <td>0.000000</td>\n",
              "      <td>2.000000</td>\n",
              "      <td>2010.000000</td>\n",
              "    </tr>\n",
              "    <tr>\n",
              "      <th>max</th>\n",
              "      <td>655370.000000</td>\n",
              "      <td>1.205100e+06</td>\n",
              "      <td>1.759398</td>\n",
              "      <td>60.724682</td>\n",
              "      <td>98.000000</td>\n",
              "      <td>3.000000</td>\n",
              "      <td>34.000000</td>\n",
              "      <td>87.000000</td>\n",
              "      <td>7.000000</td>\n",
              "      <td>941.000000</td>\n",
              "      <td>6.000000</td>\n",
              "      <td>9999.000000</td>\n",
              "      <td>70.000000</td>\n",
              "      <td>6.000000</td>\n",
              "      <td>9999.000000</td>\n",
              "      <td>3.000000</td>\n",
              "      <td>2011.000000</td>\n",
              "    </tr>\n",
              "  </tbody>\n",
              "</table>\n",
              "</div>"
            ],
            "text/plain": [
              "       Location_Easting_OSGR  ...           Year\n",
              "count          867464.000000  ...  867550.000000\n",
              "mean           439345.364558  ...    2007.933220\n",
              "std             95453.947190  ...       2.326594\n",
              "min             64950.000000  ...    2005.000000\n",
              "25%            375220.000000  ...    2006.000000\n",
              "50%            439790.000000  ...    2009.000000\n",
              "75%            523520.000000  ...    2010.000000\n",
              "max            655370.000000  ...    2011.000000\n",
              "\n",
              "[8 rows x 17 columns]"
            ]
          },
          "metadata": {},
          "execution_count": 17
        }
      ]
    },
    {
      "cell_type": "markdown",
      "metadata": {
        "id": "XpBZQ0_bY8uf"
      },
      "source": [
        "What can be derived from the above is that 2nd_Road_Class: 25%,50% and 75%are all zero which is quite abnormal\n",
        "Junction_Detail: has null everything so should not be used for our analysis"
      ]
    },
    {
      "cell_type": "code",
      "metadata": {
        "colab": {
          "base_uri": "https://localhost:8080/",
          "height": 227
        },
        "id": "WRhchESEbTmG",
        "outputId": "1101b147-ca0a-4db2-c55d-2ab8b3ed7c9d"
      },
      "source": [
        "#Basic statistics on the rest of the data\n",
        "\n",
        "df.loc[:, ~df.columns.isin(OIR_columns)].astype(\"object\").describe() # All the Nominal data can be treated as \"object\" type for simplicity."
      ],
      "execution_count": 18,
      "outputs": [
        {
          "output_type": "execute_result",
          "data": {
            "text/html": [
              "<div>\n",
              "<style scoped>\n",
              "    .dataframe tbody tr th:only-of-type {\n",
              "        vertical-align: middle;\n",
              "    }\n",
              "\n",
              "    .dataframe tbody tr th {\n",
              "        vertical-align: top;\n",
              "    }\n",
              "\n",
              "    .dataframe thead th {\n",
              "        text-align: right;\n",
              "    }\n",
              "</style>\n",
              "<table border=\"1\" class=\"dataframe\">\n",
              "  <thead>\n",
              "    <tr style=\"text-align: right;\">\n",
              "      <th></th>\n",
              "      <th>Accident_Index</th>\n",
              "      <th>Date</th>\n",
              "      <th>Time</th>\n",
              "      <th>Local_Authority_(Highway)</th>\n",
              "      <th>Road_Type</th>\n",
              "      <th>Junction_Detail</th>\n",
              "      <th>Junction_Control</th>\n",
              "      <th>Pedestrian_Crossing-Human_Control</th>\n",
              "      <th>Pedestrian_Crossing-Physical_Facilities</th>\n",
              "      <th>Light_Conditions</th>\n",
              "      <th>Weather_Conditions</th>\n",
              "      <th>Road_Surface_Conditions</th>\n",
              "      <th>Special_Conditions_at_Site</th>\n",
              "      <th>Carriageway_Hazards</th>\n",
              "      <th>Did_Police_Officer_Attend_Scene_of_Accident</th>\n",
              "      <th>LSOA_of_Accident_Location</th>\n",
              "    </tr>\n",
              "  </thead>\n",
              "  <tbody>\n",
              "    <tr>\n",
              "      <th>count</th>\n",
              "      <td>867550</td>\n",
              "      <td>867550</td>\n",
              "      <td>867466</td>\n",
              "      <td>867550</td>\n",
              "      <td>867550</td>\n",
              "      <td>0</td>\n",
              "      <td>516693</td>\n",
              "      <td>867533</td>\n",
              "      <td>867518</td>\n",
              "      <td>867550</td>\n",
              "      <td>867443</td>\n",
              "      <td>866546</td>\n",
              "      <td>867537</td>\n",
              "      <td>867524</td>\n",
              "      <td>865420</td>\n",
              "      <td>808937</td>\n",
              "    </tr>\n",
              "    <tr>\n",
              "      <th>unique</th>\n",
              "      <td>558085</td>\n",
              "      <td>2190</td>\n",
              "      <td>1439</td>\n",
              "      <td>207</td>\n",
              "      <td>6</td>\n",
              "      <td>0</td>\n",
              "      <td>4</td>\n",
              "      <td>3</td>\n",
              "      <td>6</td>\n",
              "      <td>5</td>\n",
              "      <td>9</td>\n",
              "      <td>5</td>\n",
              "      <td>8</td>\n",
              "      <td>6</td>\n",
              "      <td>2</td>\n",
              "      <td>34140</td>\n",
              "    </tr>\n",
              "    <tr>\n",
              "      <th>top</th>\n",
              "      <td>2010000000000</td>\n",
              "      <td>21/10/2005</td>\n",
              "      <td>17:00</td>\n",
              "      <td>E10000016</td>\n",
              "      <td>Single carriageway</td>\n",
              "      <td>NaN</td>\n",
              "      <td>Giveway or uncontrolled</td>\n",
              "      <td>None within 50 metres</td>\n",
              "      <td>No physical crossing within 50 meters</td>\n",
              "      <td>Daylight: Street light present</td>\n",
              "      <td>Fine without high winds</td>\n",
              "      <td>Dry</td>\n",
              "      <td>None</td>\n",
              "      <td>None</td>\n",
              "      <td>Yes</td>\n",
              "      <td>E01000004</td>\n",
              "    </tr>\n",
              "    <tr>\n",
              "      <th>freq</th>\n",
              "      <td>137503</td>\n",
              "      <td>822</td>\n",
              "      <td>8531</td>\n",
              "      <td>22579</td>\n",
              "      <td>648718</td>\n",
              "      <td>NaN</td>\n",
              "      <td>419677</td>\n",
              "      <td>862339</td>\n",
              "      <td>726922</td>\n",
              "      <td>635472</td>\n",
              "      <td>695558</td>\n",
              "      <td>598491</td>\n",
              "      <td>845879</td>\n",
              "      <td>851446</td>\n",
              "      <td>699364</td>\n",
              "      <td>1749</td>\n",
              "    </tr>\n",
              "  </tbody>\n",
              "</table>\n",
              "</div>"
            ],
            "text/plain": [
              "       Accident_Index  ... LSOA_of_Accident_Location\n",
              "count          867550  ...                    808937\n",
              "unique         558085  ...                     34140\n",
              "top     2010000000000  ...                 E01000004\n",
              "freq           137503  ...                      1749\n",
              "\n",
              "[4 rows x 16 columns]"
            ]
          },
          "metadata": {},
          "execution_count": 18
        }
      ]
    },
    {
      "cell_type": "markdown",
      "metadata": {
        "id": "gTci2LsyffXV"
      },
      "source": [
        "Road_Type: Single carriageway seems to be a common road name that an accidents would happen. The name of the type of the road could mean something or contain some special characters.\n",
        "Light_Conditions: It seems that accidents usually happen when on daylight when street lights are present.\n",
        "Weather_Conditions: Fine without high winds  is the most frequent weather condition."
      ]
    },
    {
      "cell_type": "markdown",
      "metadata": {
        "id": "bSLXhphLl5Ry"
      },
      "source": [
        "**Data Categorizing**"
      ]
    },
    {
      "cell_type": "code",
      "metadata": {
        "colab": {
          "base_uri": "https://localhost:8080/",
          "height": 567
        },
        "id": "DfWD29Msig8n",
        "outputId": "e9b51c85-7e1b-4ac0-b4dd-d5352887432a"
      },
      "source": [
        "# Category Visualization\n",
        "# https://plotly.com/python/sunburst-charts/\n",
        "df_category = dict(\n",
        "    character=['Basic', 'Location', 'Environment', 'Infrastructure', 'Accident_Index', 'Location_Easting_OSGR', 'Location_Northing_OSGR',\n",
        "               'Longitude', 'Latitude', 'Police_Force', 'Accident_Severity',\n",
        "               'Number_of_Vehicles', 'Number_of_Casualties', 'Date', 'Day_of_Week',\n",
        "               'Time', 'Local_Authority_(District)', 'Local_Authority_(Highway)',\n",
        "               '1st_Road_Class', '1st_Road_Number', 'Road_Type', 'Speed_limit',\n",
        "               'Junction_Detail', 'Junction_Control', '2nd_Road_Class',\n",
        "               '2nd_Road_Number', 'Pedestrian_Crossing-Human_Control',\n",
        "               'Pedestrian_Crossing-Physical_Facilities', 'Light_Conditions',\n",
        "               'Weather_Conditions', 'Road_Surface_Conditions',\n",
        "               'Special_Conditions_at_Site', 'Carriageway_Hazards',\n",
        "               'Urban_or_Rural_Area', 'Did_Police_Officer_Attend_Scene_of_Accident',\n",
        "               'LSOA_of_Accident_Location', 'Year'],\n",
        "     parent = [\"\",\"\",\"\",\"\",\"Basic\", \"Location\", \"Location\", \"Location\", \"Location\", \"Basic\", \"Basic\", \"Basic\",\n",
        "               \"Basic\", \"Basic\", \"Basic\", \"Basic\", \"Infrastructure\", \"Infrastructure\", \"Infrastructure\", \"Infrastructure\", \n",
        "               \"Infrastructure\", \"Infrastructure\", \"Infrastructure\", \"Infrastructure\", \"Infrastructure\", \"Infrastructure\", \n",
        "               \"Infrastructure\", \"Infrastructure\", \"Environment\", \"Environment\", \"Environment\", \"Environment\", \n",
        "               \"Environment\", \"Location\", \"Basic\", \"Basic\", \"Basic\"],\n",
        ")\n",
        "\n",
        "category_fig =px.sunburst(\n",
        "    df_category,\n",
        "    names='character',\n",
        "    parents='parent'\n",
        ")\n",
        "\n",
        "category_fig.update_layout(\n",
        "    autosize=False,\n",
        "    width=1050,\n",
        "    height=550,\n",
        "    title={\n",
        "        'text': \"Data Categorizing\",\n",
        "        'y':0.95,\n",
        "        'x':0.5,\n",
        "        'xanchor': 'center',\n",
        "        'yanchor': 'top'})\n",
        "category_fig.show()"
      ],
      "execution_count": 27,
      "outputs": [
        {
          "output_type": "display_data",
          "data": {
            "text/html": [
              "<html>\n",
              "<head><meta charset=\"utf-8\" /></head>\n",
              "<body>\n",
              "    <div>\n",
              "            <script src=\"https://cdnjs.cloudflare.com/ajax/libs/mathjax/2.7.5/MathJax.js?config=TeX-AMS-MML_SVG\"></script><script type=\"text/javascript\">if (window.MathJax) {MathJax.Hub.Config({SVG: {font: \"STIX-Web\"}});}</script>\n",
              "                <script type=\"text/javascript\">window.PlotlyConfig = {MathJaxConfig: 'local'};</script>\n",
              "        <script src=\"https://cdn.plot.ly/plotly-latest.min.js\"></script>    \n",
              "            <div id=\"1857e39c-2fd4-47c7-b43d-bebfb3c8b39f\" class=\"plotly-graph-div\" style=\"height:550px; width:1050px;\"></div>\n",
              "            <script type=\"text/javascript\">\n",
              "                \n",
              "                    window.PLOTLYENV=window.PLOTLYENV || {};\n",
              "                    \n",
              "                if (document.getElementById(\"1857e39c-2fd4-47c7-b43d-bebfb3c8b39f\")) {\n",
              "                    Plotly.newPlot(\n",
              "                        '1857e39c-2fd4-47c7-b43d-bebfb3c8b39f',\n",
              "                        [{\"domain\": {\"x\": [0.0, 1.0], \"y\": [0.0, 1.0]}, \"hoverlabel\": {\"namelength\": 0}, \"hovertemplate\": \"character=%{label}<br>parent=%{parent}\", \"labels\": [\"Basic\", \"Location\", \"Environment\", \"Infrastructure\", \"Accident_Index\", \"Location_Easting_OSGR\", \"Location_Northing_OSGR\", \"Longitude\", \"Latitude\", \"Police_Force\", \"Accident_Severity\", \"Number_of_Vehicles\", \"Number_of_Casualties\", \"Date\", \"Day_of_Week\", \"Time\", \"Local_Authority_(District)\", \"Local_Authority_(Highway)\", \"1st_Road_Class\", \"1st_Road_Number\", \"Road_Type\", \"Speed_limit\", \"Junction_Detail\", \"Junction_Control\", \"2nd_Road_Class\", \"2nd_Road_Number\", \"Pedestrian_Crossing-Human_Control\", \"Pedestrian_Crossing-Physical_Facilities\", \"Light_Conditions\", \"Weather_Conditions\", \"Road_Surface_Conditions\", \"Special_Conditions_at_Site\", \"Carriageway_Hazards\", \"Urban_or_Rural_Area\", \"Did_Police_Officer_Attend_Scene_of_Accident\", \"LSOA_of_Accident_Location\", \"Year\"], \"name\": \"\", \"parents\": [\"\", \"\", \"\", \"\", \"Basic\", \"Location\", \"Location\", \"Location\", \"Location\", \"Basic\", \"Basic\", \"Basic\", \"Basic\", \"Basic\", \"Basic\", \"Basic\", \"Infrastructure\", \"Infrastructure\", \"Infrastructure\", \"Infrastructure\", \"Infrastructure\", \"Infrastructure\", \"Infrastructure\", \"Infrastructure\", \"Infrastructure\", \"Infrastructure\", \"Infrastructure\", \"Infrastructure\", \"Environment\", \"Environment\", \"Environment\", \"Environment\", \"Environment\", \"Location\", \"Basic\", \"Basic\", \"Basic\"], \"type\": \"sunburst\"}],\n",
              "                        {\"autosize\": false, \"height\": 550, \"legend\": {\"tracegroupgap\": 0}, \"margin\": {\"t\": 60}, \"template\": {\"data\": {\"bar\": [{\"error_x\": {\"color\": \"#2a3f5f\"}, \"error_y\": {\"color\": \"#2a3f5f\"}, \"marker\": {\"line\": {\"color\": \"#E5ECF6\", \"width\": 0.5}}, \"type\": \"bar\"}], \"barpolar\": [{\"marker\": {\"line\": {\"color\": \"#E5ECF6\", \"width\": 0.5}}, \"type\": \"barpolar\"}], \"carpet\": [{\"aaxis\": {\"endlinecolor\": \"#2a3f5f\", \"gridcolor\": \"white\", \"linecolor\": \"white\", \"minorgridcolor\": \"white\", \"startlinecolor\": \"#2a3f5f\"}, \"baxis\": {\"endlinecolor\": \"#2a3f5f\", \"gridcolor\": \"white\", \"linecolor\": \"white\", \"minorgridcolor\": \"white\", \"startlinecolor\": \"#2a3f5f\"}, \"type\": \"carpet\"}], \"choropleth\": [{\"colorbar\": {\"outlinewidth\": 0, \"ticks\": \"\"}, \"type\": \"choropleth\"}], \"contour\": [{\"colorbar\": {\"outlinewidth\": 0, \"ticks\": \"\"}, \"colorscale\": [[0.0, \"#0d0887\"], [0.1111111111111111, \"#46039f\"], [0.2222222222222222, \"#7201a8\"], [0.3333333333333333, \"#9c179e\"], [0.4444444444444444, \"#bd3786\"], [0.5555555555555556, \"#d8576b\"], [0.6666666666666666, \"#ed7953\"], [0.7777777777777778, \"#fb9f3a\"], [0.8888888888888888, \"#fdca26\"], [1.0, \"#f0f921\"]], \"type\": \"contour\"}], \"contourcarpet\": [{\"colorbar\": {\"outlinewidth\": 0, \"ticks\": \"\"}, \"type\": \"contourcarpet\"}], \"heatmap\": [{\"colorbar\": {\"outlinewidth\": 0, \"ticks\": \"\"}, \"colorscale\": [[0.0, \"#0d0887\"], [0.1111111111111111, \"#46039f\"], [0.2222222222222222, \"#7201a8\"], [0.3333333333333333, \"#9c179e\"], [0.4444444444444444, \"#bd3786\"], [0.5555555555555556, \"#d8576b\"], [0.6666666666666666, \"#ed7953\"], [0.7777777777777778, \"#fb9f3a\"], [0.8888888888888888, \"#fdca26\"], [1.0, \"#f0f921\"]], \"type\": \"heatmap\"}], \"heatmapgl\": [{\"colorbar\": {\"outlinewidth\": 0, \"ticks\": \"\"}, \"colorscale\": [[0.0, \"#0d0887\"], [0.1111111111111111, \"#46039f\"], [0.2222222222222222, \"#7201a8\"], [0.3333333333333333, \"#9c179e\"], [0.4444444444444444, \"#bd3786\"], [0.5555555555555556, \"#d8576b\"], [0.6666666666666666, \"#ed7953\"], [0.7777777777777778, \"#fb9f3a\"], [0.8888888888888888, \"#fdca26\"], [1.0, \"#f0f921\"]], \"type\": \"heatmapgl\"}], \"histogram\": [{\"marker\": {\"colorbar\": {\"outlinewidth\": 0, \"ticks\": \"\"}}, \"type\": \"histogram\"}], \"histogram2d\": [{\"colorbar\": {\"outlinewidth\": 0, \"ticks\": \"\"}, \"colorscale\": [[0.0, \"#0d0887\"], [0.1111111111111111, \"#46039f\"], [0.2222222222222222, \"#7201a8\"], [0.3333333333333333, \"#9c179e\"], [0.4444444444444444, \"#bd3786\"], [0.5555555555555556, \"#d8576b\"], [0.6666666666666666, \"#ed7953\"], [0.7777777777777778, \"#fb9f3a\"], [0.8888888888888888, \"#fdca26\"], [1.0, \"#f0f921\"]], \"type\": \"histogram2d\"}], \"histogram2dcontour\": [{\"colorbar\": {\"outlinewidth\": 0, \"ticks\": \"\"}, \"colorscale\": [[0.0, \"#0d0887\"], [0.1111111111111111, \"#46039f\"], [0.2222222222222222, \"#7201a8\"], [0.3333333333333333, \"#9c179e\"], [0.4444444444444444, \"#bd3786\"], [0.5555555555555556, \"#d8576b\"], [0.6666666666666666, \"#ed7953\"], [0.7777777777777778, \"#fb9f3a\"], [0.8888888888888888, \"#fdca26\"], [1.0, \"#f0f921\"]], \"type\": \"histogram2dcontour\"}], \"mesh3d\": [{\"colorbar\": {\"outlinewidth\": 0, \"ticks\": \"\"}, \"type\": \"mesh3d\"}], \"parcoords\": [{\"line\": {\"colorbar\": {\"outlinewidth\": 0, \"ticks\": \"\"}}, \"type\": \"parcoords\"}], \"pie\": [{\"automargin\": true, \"type\": \"pie\"}], \"scatter\": [{\"marker\": {\"colorbar\": {\"outlinewidth\": 0, \"ticks\": \"\"}}, \"type\": \"scatter\"}], \"scatter3d\": [{\"line\": {\"colorbar\": {\"outlinewidth\": 0, \"ticks\": \"\"}}, \"marker\": {\"colorbar\": {\"outlinewidth\": 0, \"ticks\": \"\"}}, \"type\": \"scatter3d\"}], \"scattercarpet\": [{\"marker\": {\"colorbar\": {\"outlinewidth\": 0, \"ticks\": \"\"}}, \"type\": \"scattercarpet\"}], \"scattergeo\": [{\"marker\": {\"colorbar\": {\"outlinewidth\": 0, \"ticks\": \"\"}}, \"type\": \"scattergeo\"}], \"scattergl\": [{\"marker\": {\"colorbar\": {\"outlinewidth\": 0, \"ticks\": \"\"}}, \"type\": \"scattergl\"}], \"scattermapbox\": [{\"marker\": {\"colorbar\": {\"outlinewidth\": 0, \"ticks\": \"\"}}, \"type\": \"scattermapbox\"}], \"scatterpolar\": [{\"marker\": {\"colorbar\": {\"outlinewidth\": 0, \"ticks\": \"\"}}, \"type\": \"scatterpolar\"}], \"scatterpolargl\": [{\"marker\": {\"colorbar\": {\"outlinewidth\": 0, \"ticks\": \"\"}}, \"type\": \"scatterpolargl\"}], \"scatterternary\": [{\"marker\": {\"colorbar\": {\"outlinewidth\": 0, \"ticks\": \"\"}}, \"type\": \"scatterternary\"}], \"surface\": [{\"colorbar\": {\"outlinewidth\": 0, \"ticks\": \"\"}, \"colorscale\": [[0.0, \"#0d0887\"], [0.1111111111111111, \"#46039f\"], [0.2222222222222222, \"#7201a8\"], [0.3333333333333333, \"#9c179e\"], [0.4444444444444444, \"#bd3786\"], [0.5555555555555556, \"#d8576b\"], [0.6666666666666666, \"#ed7953\"], [0.7777777777777778, \"#fb9f3a\"], [0.8888888888888888, \"#fdca26\"], [1.0, \"#f0f921\"]], \"type\": \"surface\"}], \"table\": [{\"cells\": {\"fill\": {\"color\": \"#EBF0F8\"}, \"line\": {\"color\": \"white\"}}, \"header\": {\"fill\": {\"color\": \"#C8D4E3\"}, \"line\": {\"color\": \"white\"}}, \"type\": \"table\"}]}, \"layout\": {\"annotationdefaults\": {\"arrowcolor\": \"#2a3f5f\", \"arrowhead\": 0, \"arrowwidth\": 1}, \"coloraxis\": {\"colorbar\": {\"outlinewidth\": 0, \"ticks\": \"\"}}, \"colorscale\": {\"diverging\": [[0, \"#8e0152\"], [0.1, \"#c51b7d\"], [0.2, \"#de77ae\"], [0.3, \"#f1b6da\"], [0.4, \"#fde0ef\"], [0.5, \"#f7f7f7\"], [0.6, \"#e6f5d0\"], [0.7, \"#b8e186\"], [0.8, \"#7fbc41\"], [0.9, \"#4d9221\"], [1, \"#276419\"]], \"sequential\": [[0.0, \"#0d0887\"], [0.1111111111111111, \"#46039f\"], [0.2222222222222222, \"#7201a8\"], [0.3333333333333333, \"#9c179e\"], [0.4444444444444444, \"#bd3786\"], [0.5555555555555556, \"#d8576b\"], [0.6666666666666666, \"#ed7953\"], [0.7777777777777778, \"#fb9f3a\"], [0.8888888888888888, \"#fdca26\"], [1.0, \"#f0f921\"]], \"sequentialminus\": [[0.0, \"#0d0887\"], [0.1111111111111111, \"#46039f\"], [0.2222222222222222, \"#7201a8\"], [0.3333333333333333, \"#9c179e\"], [0.4444444444444444, \"#bd3786\"], [0.5555555555555556, \"#d8576b\"], [0.6666666666666666, \"#ed7953\"], [0.7777777777777778, \"#fb9f3a\"], [0.8888888888888888, \"#fdca26\"], [1.0, \"#f0f921\"]]}, \"colorway\": [\"#636efa\", \"#EF553B\", \"#00cc96\", \"#ab63fa\", \"#FFA15A\", \"#19d3f3\", \"#FF6692\", \"#B6E880\", \"#FF97FF\", \"#FECB52\"], \"font\": {\"color\": \"#2a3f5f\"}, \"geo\": {\"bgcolor\": \"white\", \"lakecolor\": \"white\", \"landcolor\": \"#E5ECF6\", \"showlakes\": true, \"showland\": true, \"subunitcolor\": \"white\"}, \"hoverlabel\": {\"align\": \"left\"}, \"hovermode\": \"closest\", \"mapbox\": {\"style\": \"light\"}, \"paper_bgcolor\": \"white\", \"plot_bgcolor\": \"#E5ECF6\", \"polar\": {\"angularaxis\": {\"gridcolor\": \"white\", \"linecolor\": \"white\", \"ticks\": \"\"}, \"bgcolor\": \"#E5ECF6\", \"radialaxis\": {\"gridcolor\": \"white\", \"linecolor\": \"white\", \"ticks\": \"\"}}, \"scene\": {\"xaxis\": {\"backgroundcolor\": \"#E5ECF6\", \"gridcolor\": \"white\", \"gridwidth\": 2, \"linecolor\": \"white\", \"showbackground\": true, \"ticks\": \"\", \"zerolinecolor\": \"white\"}, \"yaxis\": {\"backgroundcolor\": \"#E5ECF6\", \"gridcolor\": \"white\", \"gridwidth\": 2, \"linecolor\": \"white\", \"showbackground\": true, \"ticks\": \"\", \"zerolinecolor\": \"white\"}, \"zaxis\": {\"backgroundcolor\": \"#E5ECF6\", \"gridcolor\": \"white\", \"gridwidth\": 2, \"linecolor\": \"white\", \"showbackground\": true, \"ticks\": \"\", \"zerolinecolor\": \"white\"}}, \"shapedefaults\": {\"line\": {\"color\": \"#2a3f5f\"}}, \"ternary\": {\"aaxis\": {\"gridcolor\": \"white\", \"linecolor\": \"white\", \"ticks\": \"\"}, \"baxis\": {\"gridcolor\": \"white\", \"linecolor\": \"white\", \"ticks\": \"\"}, \"bgcolor\": \"#E5ECF6\", \"caxis\": {\"gridcolor\": \"white\", \"linecolor\": \"white\", \"ticks\": \"\"}}, \"title\": {\"x\": 0.05}, \"xaxis\": {\"automargin\": true, \"gridcolor\": \"white\", \"linecolor\": \"white\", \"ticks\": \"\", \"title\": {\"standoff\": 15}, \"zerolinecolor\": \"white\", \"zerolinewidth\": 2}, \"yaxis\": {\"automargin\": true, \"gridcolor\": \"white\", \"linecolor\": \"white\", \"ticks\": \"\", \"title\": {\"standoff\": 15}, \"zerolinecolor\": \"white\", \"zerolinewidth\": 2}}}, \"title\": {\"text\": \"Data Categorizing\", \"x\": 0.5, \"xanchor\": \"center\", \"y\": 0.95, \"yanchor\": \"top\"}, \"width\": 1050},\n",
              "                        {\"responsive\": true}\n",
              "                    ).then(function(){\n",
              "                            \n",
              "var gd = document.getElementById('1857e39c-2fd4-47c7-b43d-bebfb3c8b39f');\n",
              "var x = new MutationObserver(function (mutations, observer) {{\n",
              "        var display = window.getComputedStyle(gd).display;\n",
              "        if (!display || display === 'none') {{\n",
              "            console.log([gd, 'removed!']);\n",
              "            Plotly.purge(gd);\n",
              "            observer.disconnect();\n",
              "        }}\n",
              "}});\n",
              "\n",
              "// Listen for the removal of the full notebook cells\n",
              "var notebookContainer = gd.closest('#notebook-container');\n",
              "if (notebookContainer) {{\n",
              "    x.observe(notebookContainer, {childList: true});\n",
              "}}\n",
              "\n",
              "// Listen for the clearing of the current output cell\n",
              "var outputEl = gd.closest('.output');\n",
              "if (outputEl) {{\n",
              "    x.observe(outputEl, {childList: true});\n",
              "}}\n",
              "\n",
              "                        })\n",
              "                };\n",
              "                \n",
              "            </script>\n",
              "        </div>\n",
              "</body>\n",
              "</html>"
            ]
          },
          "metadata": {}
        }
      ]
    },
    {
      "cell_type": "markdown",
      "metadata": {
        "id": "nI0dfeSKuld5"
      },
      "source": [
        "**2. DATA PREPROCESSING**"
      ]
    },
    {
      "cell_type": "markdown",
      "metadata": {
        "id": "JXWP-jo49jZ8"
      },
      "source": [
        "Here we perform the art of cleaning our data set  for better descriptive and predictive analysis\n",
        " "
      ]
    },
    {
      "cell_type": "code",
      "metadata": {
        "id": "52l4Q6ZgubBD"
      },
      "source": [
        "#h"
      ],
      "execution_count": null,
      "outputs": []
    },
    {
      "cell_type": "code",
      "metadata": {
        "colab": {
          "base_uri": "https://localhost:8080/"
        },
        "id": "Ibr1vuCImnlx",
        "outputId": "066d3f8e-bfb8-4c8f-a531-3a4a9546412b"
      },
      "source": [
        "df.columns"
      ],
      "execution_count": 19,
      "outputs": [
        {
          "output_type": "execute_result",
          "data": {
            "text/plain": [
              "Index(['Accident_Index', 'Location_Easting_OSGR', 'Location_Northing_OSGR',\n",
              "       'Longitude', 'Latitude', 'Police_Force', 'Accident_Severity',\n",
              "       'Number_of_Vehicles', 'Number_of_Casualties', 'Date', 'Day_of_Week',\n",
              "       'Time', 'Local_Authority_(District)', 'Local_Authority_(Highway)',\n",
              "       '1st_Road_Class', '1st_Road_Number', 'Road_Type', 'Speed_limit',\n",
              "       'Junction_Detail', 'Junction_Control', '2nd_Road_Class',\n",
              "       '2nd_Road_Number', 'Pedestrian_Crossing-Human_Control',\n",
              "       'Pedestrian_Crossing-Physical_Facilities', 'Light_Conditions',\n",
              "       'Weather_Conditions', 'Road_Surface_Conditions',\n",
              "       'Special_Conditions_at_Site', 'Carriageway_Hazards',\n",
              "       'Urban_or_Rural_Area', 'Did_Police_Officer_Attend_Scene_of_Accident',\n",
              "       'LSOA_of_Accident_Location', 'Year'],\n",
              "      dtype='object')"
            ]
          },
          "metadata": {},
          "execution_count": 19
        }
      ]
    },
    {
      "cell_type": "markdown",
      "metadata": {
        "id": "bd9K8Efus8r1"
      },
      "source": [
        ""
      ]
    },
    {
      "cell_type": "code",
      "metadata": {
        "id": "GCJW5Uze7FOQ"
      },
      "source": [
        "#data visualization\n",
        "import matplotlib.pyplot as plt\n",
        "%matplotlib inline\n",
        "from pandas_profiling import ProfileReport\n",
        "import plotly.express as px\n",
        "import plotly.figure_factory as ff\n",
        "import datetime as dt\n",
        "import plotly.graph_objects as go\n",
        "from plotly.subplots import make_subplots"
      ],
      "execution_count": 20,
      "outputs": []
    },
    {
      "cell_type": "code",
      "metadata": {
        "colab": {
          "base_uri": "https://localhost:8080/"
        },
        "id": "SqAH9XGqd9Yy",
        "outputId": "8a7443a6-c7da-4c4f-f0a0-250f8e5d8553"
      },
      "source": [
        "numerics = ['int64','float64']\n",
        "numeric_df = df.select_dtypes(include=numerics)\n",
        "len(numeric_df.columns)"
      ],
      "execution_count": 6,
      "outputs": [
        {
          "output_type": "execute_result",
          "data": {
            "text/plain": [
              "18"
            ]
          },
          "metadata": {},
          "execution_count": 6
        }
      ]
    },
    {
      "cell_type": "markdown",
      "metadata": {
        "id": "LcXRI0BZaYwG"
      },
      "source": [
        "The below codes were set up for pandas profiling which would ease our work of analysing the dataset"
      ]
    },
    {
      "cell_type": "code",
      "metadata": {
        "id": "uXwAX0t-7oTW"
      },
      "source": [
        "#@title Default title text\n",
        "data = df\n",
        "data = ff.create_table(data.head(6))\n",
        "data"
      ],
      "execution_count": null,
      "outputs": []
    },
    {
      "cell_type": "code",
      "metadata": {
        "id": "gJn6EIVZj-Cu"
      },
      "source": [
        "!pip uninstall pandas_profiling"
      ],
      "execution_count": null,
      "outputs": []
    },
    {
      "cell_type": "code",
      "metadata": {
        "id": "dPoC9CVykEoT"
      },
      "source": [
        "!pip install pandas-profiling[notebook,html]"
      ],
      "execution_count": null,
      "outputs": []
    },
    {
      "cell_type": "code",
      "metadata": {
        "id": "lmMpDZtLkNFH"
      },
      "source": [
        "profile = ProfileReport(df, title=\"accident analysis\")\n",
        "profile"
      ],
      "execution_count": null,
      "outputs": []
    },
    {
      "cell_type": "code",
      "metadata": {
        "id": "PogFdnf3kkN3"
      },
      "source": [
        "profile.to_notebook_iframe()"
      ],
      "execution_count": null,
      "outputs": []
    },
    {
      "cell_type": "code",
      "metadata": {
        "id": "rtlABMe-m18b"
      },
      "source": [
        "profile.to_file(output_file=\"accident analysis.html\")"
      ],
      "execution_count": null,
      "outputs": []
    },
    {
      "cell_type": "code",
      "metadata": {
        "id": "WE67H4EpnH64"
      },
      "source": [
        "profile.to_file(output_file=\"accident analysis.csv\")"
      ],
      "execution_count": null,
      "outputs": []
    },
    {
      "cell_type": "code",
      "metadata": {
        "id": "yl2zqqxynQ_j"
      },
      "source": [
        "profile.to_file(output_file=\"your_report.json\")"
      ],
      "execution_count": null,
      "outputs": []
    },
    {
      "cell_type": "markdown",
      "metadata": {
        "id": "VelPhPLM-ysR"
      },
      "source": [
        "Use of pandas profiling helps in analysing yur data more faster. Notice that we have missing values hence our data needs cleaning"
      ]
    },
    {
      "cell_type": "code",
      "metadata": {
        "colab": {
          "base_uri": "https://localhost:8080/",
          "height": 547
        },
        "id": "vltXzrjN_E34",
        "outputId": "92d4336e-9300-49b9-e552-4985b36d0b67"
      },
      "source": [
        "#rename the columns for a clear dataset and easy reading\n",
        "accident_data = df.rename(columns={'Accident_Index': 'Index', 'Location_Easting_OSGR': 'LEO', 'Location_Northing_OSGR': 'LNO',\n",
        "       'Longitude': 'Long', 'Latitude': 'Lat', 'Police_Force': 'PF', 'Accident_Severity': 'AS',\n",
        "       'Number_of_Vehicles': 'NV', 'Number_of_Casualties': 'NC', 'Date': 'Date', 'Day_of_Week': 'DW',\n",
        "       'Time': 'Time', 'Local_Authority_(District)': 'District', 'Local_Authority_(Highway)': 'Highway',\n",
        "       '1st_Road_Class': 'RC1', '1st_Road_Number': 'RN1', 'Road_Type': 'RT', 'Speed_limit': 'SL',\n",
        "       'Junction_Detail': 'JD', 'Junction_Control': 'JC', '2nd_Road_Class': 'RC2',\n",
        "       '2nd_Road_Number': 'RN2', 'Pedestrian_Crossing-Human_Control': 'PCHC',\n",
        "       'Pedestrian_Crossing-Physical_Facilities': 'PCPF', 'Light_Conditions': 'LC',\n",
        "       'Weather_Conditions': 'WC', 'Road_Surface_Conditions': 'RSC',\n",
        "       'Special_Conditions_at_Site': 'SCS', 'Carriageway_Hazards': 'CH',\n",
        "       'Urban_or_Rural_Area': 'URA', 'Did_Police_Officer_Attend_Scene_of_Accident': 'DPOASA',\n",
        "       'LSOA_of_Accident_Location': 'LSOAAL', 'Year': 'Year'})\n",
        "accident_data.head()"
      ],
      "execution_count": 16,
      "outputs": [
        {
          "output_type": "execute_result",
          "data": {
            "text/html": [
              "<div>\n",
              "<style scoped>\n",
              "    .dataframe tbody tr th:only-of-type {\n",
              "        vertical-align: middle;\n",
              "    }\n",
              "\n",
              "    .dataframe tbody tr th {\n",
              "        vertical-align: top;\n",
              "    }\n",
              "\n",
              "    .dataframe thead th {\n",
              "        text-align: right;\n",
              "    }\n",
              "</style>\n",
              "<table border=\"1\" class=\"dataframe\">\n",
              "  <thead>\n",
              "    <tr style=\"text-align: right;\">\n",
              "      <th></th>\n",
              "      <th>Index</th>\n",
              "      <th>LEO</th>\n",
              "      <th>LNO</th>\n",
              "      <th>Long</th>\n",
              "      <th>Lat</th>\n",
              "      <th>PF</th>\n",
              "      <th>AS</th>\n",
              "      <th>NV</th>\n",
              "      <th>NC</th>\n",
              "      <th>Date</th>\n",
              "      <th>DW</th>\n",
              "      <th>Time</th>\n",
              "      <th>District</th>\n",
              "      <th>Highway</th>\n",
              "      <th>RC1</th>\n",
              "      <th>RN1</th>\n",
              "      <th>RT</th>\n",
              "      <th>SL</th>\n",
              "      <th>JD</th>\n",
              "      <th>JC</th>\n",
              "      <th>RC2</th>\n",
              "      <th>RN2</th>\n",
              "      <th>PCHC</th>\n",
              "      <th>PCPF</th>\n",
              "      <th>LC</th>\n",
              "      <th>WC</th>\n",
              "      <th>RSC</th>\n",
              "      <th>SCS</th>\n",
              "      <th>CH</th>\n",
              "      <th>URA</th>\n",
              "      <th>DPOASA</th>\n",
              "      <th>LSOAAL</th>\n",
              "      <th>Year</th>\n",
              "    </tr>\n",
              "  </thead>\n",
              "  <tbody>\n",
              "    <tr>\n",
              "      <th>0</th>\n",
              "      <td>200901BS70001</td>\n",
              "      <td>524910.0</td>\n",
              "      <td>180800.0</td>\n",
              "      <td>-0.201349</td>\n",
              "      <td>51.512273</td>\n",
              "      <td>1</td>\n",
              "      <td>2</td>\n",
              "      <td>2</td>\n",
              "      <td>1</td>\n",
              "      <td>1/1/2009</td>\n",
              "      <td>5</td>\n",
              "      <td>15:11</td>\n",
              "      <td>12</td>\n",
              "      <td>E09000020</td>\n",
              "      <td>6</td>\n",
              "      <td>0</td>\n",
              "      <td>One way street</td>\n",
              "      <td>30</td>\n",
              "      <td>NaN</td>\n",
              "      <td>Giveway or uncontrolled</td>\n",
              "      <td>6</td>\n",
              "      <td>0</td>\n",
              "      <td>None within 50 metres</td>\n",
              "      <td>No physical crossing within 50 meters</td>\n",
              "      <td>Daylight: Street light present</td>\n",
              "      <td>Fine without high winds</td>\n",
              "      <td>Dry</td>\n",
              "      <td>None</td>\n",
              "      <td>None</td>\n",
              "      <td>1</td>\n",
              "      <td>Yes</td>\n",
              "      <td>E01002882</td>\n",
              "      <td>2009</td>\n",
              "    </tr>\n",
              "    <tr>\n",
              "      <th>1</th>\n",
              "      <td>200901BS70002</td>\n",
              "      <td>525050.0</td>\n",
              "      <td>181040.0</td>\n",
              "      <td>-0.199248</td>\n",
              "      <td>51.514399</td>\n",
              "      <td>1</td>\n",
              "      <td>2</td>\n",
              "      <td>2</td>\n",
              "      <td>11</td>\n",
              "      <td>5/1/2009</td>\n",
              "      <td>2</td>\n",
              "      <td>10:59</td>\n",
              "      <td>12</td>\n",
              "      <td>E09000020</td>\n",
              "      <td>5</td>\n",
              "      <td>0</td>\n",
              "      <td>Single carriageway</td>\n",
              "      <td>30</td>\n",
              "      <td>NaN</td>\n",
              "      <td>Giveway or uncontrolled</td>\n",
              "      <td>5</td>\n",
              "      <td>0</td>\n",
              "      <td>None within 50 metres</td>\n",
              "      <td>Zebra crossing</td>\n",
              "      <td>Daylight: Street light present</td>\n",
              "      <td>Fine without high winds</td>\n",
              "      <td>Wet/Damp</td>\n",
              "      <td>None</td>\n",
              "      <td>None</td>\n",
              "      <td>1</td>\n",
              "      <td>Yes</td>\n",
              "      <td>E01002886</td>\n",
              "      <td>2009</td>\n",
              "    </tr>\n",
              "    <tr>\n",
              "      <th>2</th>\n",
              "      <td>200901BS70003</td>\n",
              "      <td>526490.0</td>\n",
              "      <td>177990.0</td>\n",
              "      <td>-0.179599</td>\n",
              "      <td>51.486668</td>\n",
              "      <td>1</td>\n",
              "      <td>3</td>\n",
              "      <td>2</td>\n",
              "      <td>1</td>\n",
              "      <td>4/1/2009</td>\n",
              "      <td>1</td>\n",
              "      <td>14:19</td>\n",
              "      <td>12</td>\n",
              "      <td>E09000020</td>\n",
              "      <td>3</td>\n",
              "      <td>308</td>\n",
              "      <td>Single carriageway</td>\n",
              "      <td>30</td>\n",
              "      <td>NaN</td>\n",
              "      <td>Giveway or uncontrolled</td>\n",
              "      <td>6</td>\n",
              "      <td>0</td>\n",
              "      <td>None within 50 metres</td>\n",
              "      <td>No physical crossing within 50 meters</td>\n",
              "      <td>Daylight: Street light present</td>\n",
              "      <td>Fine without high winds</td>\n",
              "      <td>Dry</td>\n",
              "      <td>None</td>\n",
              "      <td>None</td>\n",
              "      <td>1</td>\n",
              "      <td>Yes</td>\n",
              "      <td>E01002912</td>\n",
              "      <td>2009</td>\n",
              "    </tr>\n",
              "    <tr>\n",
              "      <th>3</th>\n",
              "      <td>200901BS70004</td>\n",
              "      <td>524800.0</td>\n",
              "      <td>180300.0</td>\n",
              "      <td>-0.203110</td>\n",
              "      <td>51.507804</td>\n",
              "      <td>1</td>\n",
              "      <td>2</td>\n",
              "      <td>2</td>\n",
              "      <td>1</td>\n",
              "      <td>5/1/2009</td>\n",
              "      <td>2</td>\n",
              "      <td>8:10</td>\n",
              "      <td>12</td>\n",
              "      <td>E09000020</td>\n",
              "      <td>3</td>\n",
              "      <td>402</td>\n",
              "      <td>Single carriageway</td>\n",
              "      <td>30</td>\n",
              "      <td>NaN</td>\n",
              "      <td>Automatic traffic signal</td>\n",
              "      <td>4</td>\n",
              "      <td>450</td>\n",
              "      <td>None within 50 metres</td>\n",
              "      <td>Pedestrian phase at traffic signal junction</td>\n",
              "      <td>Daylight: Street light present</td>\n",
              "      <td>Other</td>\n",
              "      <td>Frost/Ice</td>\n",
              "      <td>None</td>\n",
              "      <td>None</td>\n",
              "      <td>1</td>\n",
              "      <td>Yes</td>\n",
              "      <td>E01002871</td>\n",
              "      <td>2009</td>\n",
              "    </tr>\n",
              "    <tr>\n",
              "      <th>4</th>\n",
              "      <td>200901BS70005</td>\n",
              "      <td>526930.0</td>\n",
              "      <td>177490.0</td>\n",
              "      <td>-0.173445</td>\n",
              "      <td>51.482076</td>\n",
              "      <td>1</td>\n",
              "      <td>2</td>\n",
              "      <td>2</td>\n",
              "      <td>1</td>\n",
              "      <td>6/1/2009</td>\n",
              "      <td>3</td>\n",
              "      <td>17:25</td>\n",
              "      <td>12</td>\n",
              "      <td>E09000020</td>\n",
              "      <td>3</td>\n",
              "      <td>3212</td>\n",
              "      <td>Single carriageway</td>\n",
              "      <td>30</td>\n",
              "      <td>NaN</td>\n",
              "      <td>Automatic traffic signal</td>\n",
              "      <td>3</td>\n",
              "      <td>3220</td>\n",
              "      <td>None within 50 metres</td>\n",
              "      <td>No physical crossing within 50 meters</td>\n",
              "      <td>Darkness: Street lights present and lit</td>\n",
              "      <td>Fine without high winds</td>\n",
              "      <td>Dry</td>\n",
              "      <td>None</td>\n",
              "      <td>None</td>\n",
              "      <td>1</td>\n",
              "      <td>Yes</td>\n",
              "      <td>E01002840</td>\n",
              "      <td>2009</td>\n",
              "    </tr>\n",
              "  </tbody>\n",
              "</table>\n",
              "</div>"
            ],
            "text/plain": [
              "           Index       LEO       LNO      Long  ...  URA  DPOASA     LSOAAL  Year\n",
              "0  200901BS70001  524910.0  180800.0 -0.201349  ...    1     Yes  E01002882  2009\n",
              "1  200901BS70002  525050.0  181040.0 -0.199248  ...    1     Yes  E01002886  2009\n",
              "2  200901BS70003  526490.0  177990.0 -0.179599  ...    1     Yes  E01002912  2009\n",
              "3  200901BS70004  524800.0  180300.0 -0.203110  ...    1     Yes  E01002871  2009\n",
              "4  200901BS70005  526930.0  177490.0 -0.173445  ...    1     Yes  E01002840  2009\n",
              "\n",
              "[5 rows x 33 columns]"
            ]
          },
          "metadata": {},
          "execution_count": 16
        }
      ]
    },
    {
      "cell_type": "code",
      "metadata": {
        "id": "pPQO-vNyRzI1"
      },
      "source": [
        "!pip install category_encoders"
      ],
      "execution_count": null,
      "outputs": []
    },
    {
      "cell_type": "markdown",
      "metadata": {
        "id": "pBUYEFafQ_vg"
      },
      "source": [
        "Required Libraries"
      ]
    },
    {
      "cell_type": "code",
      "metadata": {
        "colab": {
          "base_uri": "https://localhost:8080/"
        },
        "id": "67FhtP-0OS2u",
        "outputId": "6216789e-4127-49e7-8f16-8574fae9a16d"
      },
      "source": [
        "import numpy as np\n",
        "import matplotlib.pyplot as plt\n",
        "import seaborn as sns\n",
        "import category_encoders as ce\n",
        "\n",
        "from sklearn.metrics import classification_report, confusion_matrix, accuracy_score, f1_score, roc_curve\n",
        "from sklearn.model_selection import train_test_split, GridSearchCV\n",
        "from sklearn.neural_network import MLPClassifier\n",
        "from sklearn.ensemble import RandomForestClassifier\n",
        "from sklearn.tree import DecisionTreeClassifier, plot_tree\n",
        "from sklearn.linear_model import LogisticRegression\n",
        "from sklearn.preprocessing import MinMaxScaler\n",
        "from sklearn.metrics import precision_recall_curve\n",
        "from sklearn.metrics import average_precision_score\n",
        "from sklearn.preprocessing import label_binarize"
      ],
      "execution_count": null,
      "outputs": [
        {
          "output_type": "stream",
          "name": "stderr",
          "text": [
            "/usr/local/lib/python3.7/dist-packages/statsmodels/tools/_testing.py:19: FutureWarning:\n",
            "\n",
            "pandas.util.testing is deprecated. Use the functions in the public API at pandas.testing instead.\n",
            "\n"
          ]
        }
      ]
    },
    {
      "cell_type": "code",
      "metadata": {
        "id": "aKrZa3JpSMQJ"
      },
      "source": [
        "import plotly.graph_objects as go\n",
        "from nltk.corpus import stopwords"
      ],
      "execution_count": null,
      "outputs": []
    },
    {
      "cell_type": "markdown",
      "metadata": {
        "id": "1fLdUCl9TOkw"
      },
      "source": [
        "Exploratory Data Analysis (EDA)\n",
        "Exploratory Data Analysis refers to the critical process of performing initial investigations on data so as to discover patterns,to spot anomalies,to test hypothesis and to check assumptions with the help of summary statistics and graphical representations. In this first part of this notebook we are going to do an EDA of the dataset."
      ]
    },
    {
      "cell_type": "markdown",
      "metadata": {
        "id": "0Sj-_hBBOxzL"
      },
      "source": [
        ""
      ]
    },
    {
      "cell_type": "markdown",
      "metadata": {
        "id": "A8c6RUYCTmG2"
      },
      "source": [
        ""
      ]
    },
    {
      "cell_type": "code",
      "metadata": {
        "colab": {
          "base_uri": "https://localhost:8080/"
        },
        "id": "AF0aSDLuUaka",
        "outputId": "aadadbc9-2b16-46e7-f87a-deafa0665911"
      },
      "source": [
        "print(accident_data[\"AS\"].value_counts())"
      ],
      "execution_count": 8,
      "outputs": [
        {
          "output_type": "stream",
          "name": "stdout",
          "text": [
            "3    741295\n",
            "2    114777\n",
            "1     11478\n",
            "Name: AS, dtype: int64\n"
          ]
        }
      ]
    },
    {
      "cell_type": "code",
      "metadata": {
        "colab": {
          "base_uri": "https://localhost:8080/"
        },
        "id": "v8bypUZOXZ91",
        "outputId": "fce29fda-7989-44b5-f76a-ea3c99e629de"
      },
      "source": [
        "accident_data.columns"
      ],
      "execution_count": 9,
      "outputs": [
        {
          "output_type": "execute_result",
          "data": {
            "text/plain": [
              "Index(['Index', 'LEO', 'LNO', 'Long', 'Lat', 'PF', 'AS', 'NV', 'NC', 'Date',\n",
              "       'DW', 'Time', 'District', 'Highway', 'RC1', 'RN1', 'RT', 'SL', 'JD',\n",
              "       'JC', 'RC2', 'RN2', 'PCHC', 'PCPF', 'LC', 'WC', 'RSC', 'SCS', 'CH',\n",
              "       'URA', 'DPOASA', 'LSOAAL', 'Year'],\n",
              "      dtype='object')"
            ]
          },
          "metadata": {},
          "execution_count": 9
        }
      ]
    },
    {
      "cell_type": "code",
      "metadata": {
        "colab": {
          "base_uri": "https://localhost:8080/"
        },
        "id": "bcZKqUI6dN4M",
        "outputId": "88bb2ef4-ffc1-4662-e1bd-34ab485fd3d4"
      },
      "source": [
        "accident_data1= accident_data\n",
        "accident_data1.shape"
      ],
      "execution_count": 10,
      "outputs": [
        {
          "output_type": "execute_result",
          "data": {
            "text/plain": [
              "(867550, 33)"
            ]
          },
          "metadata": {},
          "execution_count": 10
        }
      ]
    },
    {
      "cell_type": "code",
      "metadata": {
        "colab": {
          "base_uri": "https://localhost:8080/",
          "height": 383
        },
        "id": "P2BQFGdYYubQ",
        "outputId": "8d91dc55-0124-46a1-922a-6076b83fe93c"
      },
      "source": [
        "accident_data1[\"Date\"] = pd.to_datetime(accident_data1[\"Date\"])\n",
        "\n",
        "# Extract year, month, weekday and day\n",
        "accident_data1[\"Year\"] = accident_data1[\"Date\"].dt.year\n",
        "accident_data1[\"Month\"] = accident_data1[\"Date\"].dt.month\n",
        "accident_data1[\"Weekday\"] = accident_data1[\"Date\"].dt.weekday\n",
        "accident_data1[\"Day\"] = accident_data1[\"Date\"].dt.day\n",
        "\n",
        "# Extract hour and minute\n",
        "accident_data1['Time'] = pd.to_datetime(accident_data1['Time'])\n",
        "accident_data1[\"Hour\"] = accident_data1[\"Time\"].dt.hour\n",
        "accident_data1[\"Minute\"] = accident_data1[\"Time\"].dt.minute\n",
        "\n",
        "accident_data.head(3)"
      ],
      "execution_count": 11,
      "outputs": [
        {
          "output_type": "execute_result",
          "data": {
            "text/html": [
              "<div>\n",
              "<style scoped>\n",
              "    .dataframe tbody tr th:only-of-type {\n",
              "        vertical-align: middle;\n",
              "    }\n",
              "\n",
              "    .dataframe tbody tr th {\n",
              "        vertical-align: top;\n",
              "    }\n",
              "\n",
              "    .dataframe thead th {\n",
              "        text-align: right;\n",
              "    }\n",
              "</style>\n",
              "<table border=\"1\" class=\"dataframe\">\n",
              "  <thead>\n",
              "    <tr style=\"text-align: right;\">\n",
              "      <th></th>\n",
              "      <th>Index</th>\n",
              "      <th>LEO</th>\n",
              "      <th>LNO</th>\n",
              "      <th>Long</th>\n",
              "      <th>Lat</th>\n",
              "      <th>PF</th>\n",
              "      <th>AS</th>\n",
              "      <th>NV</th>\n",
              "      <th>NC</th>\n",
              "      <th>Date</th>\n",
              "      <th>DW</th>\n",
              "      <th>Time</th>\n",
              "      <th>District</th>\n",
              "      <th>Highway</th>\n",
              "      <th>RC1</th>\n",
              "      <th>RN1</th>\n",
              "      <th>RT</th>\n",
              "      <th>SL</th>\n",
              "      <th>JD</th>\n",
              "      <th>JC</th>\n",
              "      <th>RC2</th>\n",
              "      <th>RN2</th>\n",
              "      <th>PCHC</th>\n",
              "      <th>PCPF</th>\n",
              "      <th>LC</th>\n",
              "      <th>WC</th>\n",
              "      <th>RSC</th>\n",
              "      <th>SCS</th>\n",
              "      <th>CH</th>\n",
              "      <th>URA</th>\n",
              "      <th>DPOASA</th>\n",
              "      <th>LSOAAL</th>\n",
              "      <th>Year</th>\n",
              "      <th>Month</th>\n",
              "      <th>Weekday</th>\n",
              "      <th>Day</th>\n",
              "      <th>Hour</th>\n",
              "      <th>Minute</th>\n",
              "    </tr>\n",
              "  </thead>\n",
              "  <tbody>\n",
              "    <tr>\n",
              "      <th>0</th>\n",
              "      <td>200901BS70001</td>\n",
              "      <td>524910.0</td>\n",
              "      <td>180800.0</td>\n",
              "      <td>-0.201349</td>\n",
              "      <td>51.512273</td>\n",
              "      <td>1</td>\n",
              "      <td>2</td>\n",
              "      <td>2</td>\n",
              "      <td>1</td>\n",
              "      <td>2009-01-01</td>\n",
              "      <td>5</td>\n",
              "      <td>2021-11-02 15:11:00</td>\n",
              "      <td>12</td>\n",
              "      <td>E09000020</td>\n",
              "      <td>6</td>\n",
              "      <td>0</td>\n",
              "      <td>One way street</td>\n",
              "      <td>30</td>\n",
              "      <td>NaN</td>\n",
              "      <td>Giveway or uncontrolled</td>\n",
              "      <td>6</td>\n",
              "      <td>0</td>\n",
              "      <td>None within 50 metres</td>\n",
              "      <td>No physical crossing within 50 meters</td>\n",
              "      <td>Daylight: Street light present</td>\n",
              "      <td>Fine without high winds</td>\n",
              "      <td>Dry</td>\n",
              "      <td>None</td>\n",
              "      <td>None</td>\n",
              "      <td>1</td>\n",
              "      <td>Yes</td>\n",
              "      <td>E01002882</td>\n",
              "      <td>2009</td>\n",
              "      <td>1</td>\n",
              "      <td>3</td>\n",
              "      <td>1</td>\n",
              "      <td>15.0</td>\n",
              "      <td>11.0</td>\n",
              "    </tr>\n",
              "    <tr>\n",
              "      <th>1</th>\n",
              "      <td>200901BS70002</td>\n",
              "      <td>525050.0</td>\n",
              "      <td>181040.0</td>\n",
              "      <td>-0.199248</td>\n",
              "      <td>51.514399</td>\n",
              "      <td>1</td>\n",
              "      <td>2</td>\n",
              "      <td>2</td>\n",
              "      <td>11</td>\n",
              "      <td>2009-05-01</td>\n",
              "      <td>2</td>\n",
              "      <td>2021-11-02 10:59:00</td>\n",
              "      <td>12</td>\n",
              "      <td>E09000020</td>\n",
              "      <td>5</td>\n",
              "      <td>0</td>\n",
              "      <td>Single carriageway</td>\n",
              "      <td>30</td>\n",
              "      <td>NaN</td>\n",
              "      <td>Giveway or uncontrolled</td>\n",
              "      <td>5</td>\n",
              "      <td>0</td>\n",
              "      <td>None within 50 metres</td>\n",
              "      <td>Zebra crossing</td>\n",
              "      <td>Daylight: Street light present</td>\n",
              "      <td>Fine without high winds</td>\n",
              "      <td>Wet/Damp</td>\n",
              "      <td>None</td>\n",
              "      <td>None</td>\n",
              "      <td>1</td>\n",
              "      <td>Yes</td>\n",
              "      <td>E01002886</td>\n",
              "      <td>2009</td>\n",
              "      <td>5</td>\n",
              "      <td>4</td>\n",
              "      <td>1</td>\n",
              "      <td>10.0</td>\n",
              "      <td>59.0</td>\n",
              "    </tr>\n",
              "    <tr>\n",
              "      <th>2</th>\n",
              "      <td>200901BS70003</td>\n",
              "      <td>526490.0</td>\n",
              "      <td>177990.0</td>\n",
              "      <td>-0.179599</td>\n",
              "      <td>51.486668</td>\n",
              "      <td>1</td>\n",
              "      <td>3</td>\n",
              "      <td>2</td>\n",
              "      <td>1</td>\n",
              "      <td>2009-04-01</td>\n",
              "      <td>1</td>\n",
              "      <td>2021-11-02 14:19:00</td>\n",
              "      <td>12</td>\n",
              "      <td>E09000020</td>\n",
              "      <td>3</td>\n",
              "      <td>308</td>\n",
              "      <td>Single carriageway</td>\n",
              "      <td>30</td>\n",
              "      <td>NaN</td>\n",
              "      <td>Giveway or uncontrolled</td>\n",
              "      <td>6</td>\n",
              "      <td>0</td>\n",
              "      <td>None within 50 metres</td>\n",
              "      <td>No physical crossing within 50 meters</td>\n",
              "      <td>Daylight: Street light present</td>\n",
              "      <td>Fine without high winds</td>\n",
              "      <td>Dry</td>\n",
              "      <td>None</td>\n",
              "      <td>None</td>\n",
              "      <td>1</td>\n",
              "      <td>Yes</td>\n",
              "      <td>E01002912</td>\n",
              "      <td>2009</td>\n",
              "      <td>4</td>\n",
              "      <td>2</td>\n",
              "      <td>1</td>\n",
              "      <td>14.0</td>\n",
              "      <td>19.0</td>\n",
              "    </tr>\n",
              "  </tbody>\n",
              "</table>\n",
              "</div>"
            ],
            "text/plain": [
              "           Index       LEO       LNO      Long  ...  Weekday  Day  Hour  Minute\n",
              "0  200901BS70001  524910.0  180800.0 -0.201349  ...        3    1  15.0    11.0\n",
              "1  200901BS70002  525050.0  181040.0 -0.199248  ...        4    1  10.0    59.0\n",
              "2  200901BS70003  526490.0  177990.0 -0.179599  ...        2    1  14.0    19.0\n",
              "\n",
              "[3 rows x 38 columns]"
            ]
          },
          "metadata": {},
          "execution_count": 11
        }
      ]
    },
    {
      "cell_type": "code",
      "metadata": {
        "colab": {
          "base_uri": "https://localhost:8080/"
        },
        "id": "pshr6W2PbVgL",
        "outputId": "cf3f2b94-8c0d-49b8-b923-4de828d1c79c"
      },
      "source": [
        "accident_data1 = accident_data1.drop(['Date', 'Time', 'JD', 'Weekday'], axis = 1)\n",
        "accident_data1.shape\n"
      ],
      "execution_count": 12,
      "outputs": [
        {
          "output_type": "execute_result",
          "data": {
            "text/plain": [
              "(867550, 34)"
            ]
          },
          "metadata": {},
          "execution_count": 12
        }
      ]
    },
    {
      "cell_type": "code",
      "metadata": {
        "id": "-c4T5KWny9AS",
        "colab": {
          "base_uri": "https://localhost:8080/"
        },
        "outputId": "7d35fa44-6146-4f9b-b035-0ee98adab795"
      },
      "source": [
        "# dropping duplicate values\n",
        "accident_data1.drop_duplicates(keep=False,inplace=True)\n",
        "accident_data1.shape"
      ],
      "execution_count": 13,
      "outputs": [
        {
          "output_type": "execute_result",
          "data": {
            "text/plain": [
              "(867534, 34)"
            ]
          },
          "metadata": {},
          "execution_count": 13
        }
      ]
    },
    {
      "cell_type": "code",
      "metadata": {
        "id": "rI7DpQ3MKMq0"
      },
      "source": [
        ""
      ],
      "execution_count": null,
      "outputs": []
    }
  ]
}